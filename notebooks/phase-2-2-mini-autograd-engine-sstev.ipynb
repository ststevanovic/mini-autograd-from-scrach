{
 "cells": [
  {
   "cell_type": "markdown",
   "id": "1d25863c",
   "metadata": {},
   "source": [
    "#############################################################\n",
    "#                                                           #\n",
    "#    █████╗ ██╗   ██╗████████╗ ██████╗  ██████╗              #\n",
    "#   ██╔══██╗██║   ██║╚══██╔══╝██╔═══██╗██╔════╝              #\n",
    "#   ███████║██║   ██║   ██║   ██║   ██║██║  ███╗             #\n",
    "#   ██╔══██║██║   ██║   ██║   ██║   ██║██║   ██║             #\n",
    "#   ██║  ██║╚██████╔╝   ██║   ╚██████╔╝╚██████╔╝             #\n",
    "#   ╚═╝  ╚═╝ ╚═════╝    ╚═╝    ╚═════╝  ╚═════╝              #\n",
    "#                                                           #\n",
    "#           🎓 AUTO-GRAD-UATED! 🎓                          #\n",
    "#                                                           #\n",
    "#   Congrats ststevanovic — your Tensor passed on         #\n",
    "#                                                           #\n",
    "#############################################################\n",
    "\n",
    "**🎓 AutoGrad-uated!**  \n",
    "Congrats **ststevanovic** — your Tensor passed on ****."
   ]
  }
 ],
 "metadata": {
  "kernelspec": {
   "display_name": "Python 3",
   "language": "python",
   "name": "python3"
  },
  "language_info": {
   "name": "python",
   "version": "3.11"
  }
 },
 "nbformat": 4,
 "nbformat_minor": 5
}
